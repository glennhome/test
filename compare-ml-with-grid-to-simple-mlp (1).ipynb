{
 "cells": [
  {
   "cell_type": "code",
   "execution_count": 2,
   "metadata": {
    "_cell_guid": "b1076dfc-b9ad-4769-8c92-a6c4dae69d19",
    "_uuid": "8f2839f25d086af736a60e9eeb907d3b93b6e0e5"
   },
   "outputs": [
    {
     "name": "stderr",
     "output_type": "stream",
     "text": [
      "Using TensorFlow backend.\n",
      "D:\\Anaconda3\\megatest\\lib\\site-packages\\tensorflow\\python\\framework\\dtypes.py:516: FutureWarning: Passing (type, 1) or '1type' as a synonym of type is deprecated; in a future version of numpy, it will be understood as (type, (1,)) / '(1,)type'.\n",
      "  _np_qint8 = np.dtype([(\"qint8\", np.int8, 1)])\n",
      "D:\\Anaconda3\\megatest\\lib\\site-packages\\tensorflow\\python\\framework\\dtypes.py:517: FutureWarning: Passing (type, 1) or '1type' as a synonym of type is deprecated; in a future version of numpy, it will be understood as (type, (1,)) / '(1,)type'.\n",
      "  _np_quint8 = np.dtype([(\"quint8\", np.uint8, 1)])\n",
      "D:\\Anaconda3\\megatest\\lib\\site-packages\\tensorflow\\python\\framework\\dtypes.py:518: FutureWarning: Passing (type, 1) or '1type' as a synonym of type is deprecated; in a future version of numpy, it will be understood as (type, (1,)) / '(1,)type'.\n",
      "  _np_qint16 = np.dtype([(\"qint16\", np.int16, 1)])\n",
      "D:\\Anaconda3\\megatest\\lib\\site-packages\\tensorflow\\python\\framework\\dtypes.py:519: FutureWarning: Passing (type, 1) or '1type' as a synonym of type is deprecated; in a future version of numpy, it will be understood as (type, (1,)) / '(1,)type'.\n",
      "  _np_quint16 = np.dtype([(\"quint16\", np.uint16, 1)])\n",
      "D:\\Anaconda3\\megatest\\lib\\site-packages\\tensorflow\\python\\framework\\dtypes.py:520: FutureWarning: Passing (type, 1) or '1type' as a synonym of type is deprecated; in a future version of numpy, it will be understood as (type, (1,)) / '(1,)type'.\n",
      "  _np_qint32 = np.dtype([(\"qint32\", np.int32, 1)])\n",
      "D:\\Anaconda3\\megatest\\lib\\site-packages\\tensorflow\\python\\framework\\dtypes.py:525: FutureWarning: Passing (type, 1) or '1type' as a synonym of type is deprecated; in a future version of numpy, it will be understood as (type, (1,)) / '(1,)type'.\n",
      "  np_resource = np.dtype([(\"resource\", np.ubyte, 1)])\n",
      "D:\\Anaconda3\\megatest\\lib\\site-packages\\tensorboard\\compat\\tensorflow_stub\\dtypes.py:541: FutureWarning: Passing (type, 1) or '1type' as a synonym of type is deprecated; in a future version of numpy, it will be understood as (type, (1,)) / '(1,)type'.\n",
      "  _np_qint8 = np.dtype([(\"qint8\", np.int8, 1)])\n",
      "D:\\Anaconda3\\megatest\\lib\\site-packages\\tensorboard\\compat\\tensorflow_stub\\dtypes.py:542: FutureWarning: Passing (type, 1) or '1type' as a synonym of type is deprecated; in a future version of numpy, it will be understood as (type, (1,)) / '(1,)type'.\n",
      "  _np_quint8 = np.dtype([(\"quint8\", np.uint8, 1)])\n",
      "D:\\Anaconda3\\megatest\\lib\\site-packages\\tensorboard\\compat\\tensorflow_stub\\dtypes.py:543: FutureWarning: Passing (type, 1) or '1type' as a synonym of type is deprecated; in a future version of numpy, it will be understood as (type, (1,)) / '(1,)type'.\n",
      "  _np_qint16 = np.dtype([(\"qint16\", np.int16, 1)])\n",
      "D:\\Anaconda3\\megatest\\lib\\site-packages\\tensorboard\\compat\\tensorflow_stub\\dtypes.py:544: FutureWarning: Passing (type, 1) or '1type' as a synonym of type is deprecated; in a future version of numpy, it will be understood as (type, (1,)) / '(1,)type'.\n",
      "  _np_quint16 = np.dtype([(\"quint16\", np.uint16, 1)])\n",
      "D:\\Anaconda3\\megatest\\lib\\site-packages\\tensorboard\\compat\\tensorflow_stub\\dtypes.py:545: FutureWarning: Passing (type, 1) or '1type' as a synonym of type is deprecated; in a future version of numpy, it will be understood as (type, (1,)) / '(1,)type'.\n",
      "  _np_qint32 = np.dtype([(\"qint32\", np.int32, 1)])\n",
      "D:\\Anaconda3\\megatest\\lib\\site-packages\\tensorboard\\compat\\tensorflow_stub\\dtypes.py:550: FutureWarning: Passing (type, 1) or '1type' as a synonym of type is deprecated; in a future version of numpy, it will be understood as (type, (1,)) / '(1,)type'.\n",
      "  np_resource = np.dtype([(\"resource\", np.ubyte, 1)])\n"
     ]
    }
   ],
   "source": [
    "import numpy as np \n",
    "import pandas as pd \n",
    "import seaborn as sns\n",
    "import matplotlib.pyplot as plt\n",
    "import warnings\n",
    "import xgboost as xgb\n",
    "warnings.filterwarnings(action='ignore', category=DeprecationWarning)\n",
    "\n",
    "from sklearn.preprocessing import StandardScaler, MinMaxScaler\n",
    "from sklearn.model_selection import train_test_split, GridSearchCV\n",
    "from sklearn.externals import joblib\n",
    "from sklearn.neighbors import KNeighborsClassifier\n",
    "from sklearn.tree import DecisionTreeClassifier\n",
    "from sklearn.ensemble import RandomForestClassifier, AdaBoostClassifier, GradientBoostingClassifier\n",
    "from sklearn.metrics import accuracy_score, log_loss, confusion_matrix, make_scorer\n",
    "\n",
    "from keras import layers\n",
    "from keras import optimizers\n",
    "from keras.models import Sequential\n",
    "from keras.layers import Dense, Dropout\n",
    "from keras.optimizers import Adam, SGD, RMSprop, Adagrad\n"
   ]
  },
  {
   "cell_type": "code",
   "execution_count": 3,
   "metadata": {},
   "outputs": [],
   "source": [
    "def plot_history(history):\n",
    "    acc = history.history['acc']\n",
    "    val_acc = history.history['val_acc']\n",
    "    loss = history.history['loss']\n",
    "    val_loss = history.history['val_loss']\n",
    "    x = range(1, len(acc) + 1)\n",
    "    plt.figure(figsize=(12, 5))\n",
    "    plt.subplot(1, 2, 1)\n",
    "    plt.plot(x, acc, 'b', label='Training acc')\n",
    "    plt.plot(x, val_acc, 'r', label='Validation acc')\n",
    "    plt.title('Training and validation accuracy')\n",
    "    plt.legend()\n",
    "    plt.subplot(1, 2, 2)\n",
    "    plt.plot(x, loss, 'b', label='Training loss')\n",
    "    plt.plot(x, val_loss, 'r', label='Validation loss')\n",
    "    plt.title('Training and validation loss')\n",
    "    plt.legend()\n",
    "\n",
    "def train_to_test_split(train_x, train_y):\n",
    "    sc = MinMaxScaler()\n",
    "    train_x = sc.fit_transform(train_x)\n",
    "#     joblib.dump(sc.fit(train_x), scaler_filename) \n",
    "    return train_test_split(train_x, train_y, test_size=0.3, random_state=5)\n",
    "\n",
    "\n",
    "def kfold(clf):\n",
    "    kf = KFold(len(dt.index), n_folds=10, shuffle=True, random_state=111)\n",
    "    outcomes = []\n",
    "    fold = 0\n",
    "    for train_index, test_index in kf:\n",
    "        fold += 1\n",
    "        X_train, X_test = dt.loc[:,'age':'thal'].values[train_index], dt.loc[:,'age':'thal'].values[test_index]\n",
    "        y_train, y_test = dt['target'].values[train_index], dt['target'].values[test_index]\n",
    "        clf.fit(X_train, y_train)\n",
    "        prediction = clf.predict(X_test)\n",
    "        accuracy = accuracy_score(y_test, prediction)\n",
    "        outcomes.append(accuracy)\n",
    "        print(\"Fold {0} accuracy: {1}\".format(fold, accuracy))     \n",
    "    mean_outcome = np.mean(outcomes)\n",
    "    print(\"Mean Accuracy: {0}\".format(mean_outcome)) \n",
    "\n",
    "    \n",
    "def grid_search(clf, parameters, X_train, y_train):\n",
    "    acc_scorer = make_scorer(accuracy_score)\n",
    "    grid_obj = GridSearchCV(clf, parameters, scoring=acc_scorer, n_jobs=-1, cv=5)\n",
    "    grid_obj = grid_obj.fit(X_train, y_train.values.ravel())\n",
    "    clf = grid_obj.best_estimator_\n",
    "    return(clf)\n",
    "    \n",
    "    \n",
    "def classifier(clf):\n",
    "    \n",
    "    clf_name = clf.__class__.__name__\n",
    "    parameters = parameter_set(clf_name)\n",
    "    print(parameters)\n",
    "    # return predictions from gird search best model\n",
    "    clf = grid_search(clf, parameters, X_train, y_train)\n",
    "    \n",
    "    # fit best model\n",
    "    clf.fit(X_train, y_train.values.ravel())\n",
    "    \n",
    "    predictions = clf.predict(X_test) \n",
    "    if clf_name == 'XGBClassifier':\n",
    "        predictions = [value for value in predictions]\n",
    "    return(predictions)\n",
    "\n",
    "def parameter_set(clf_name):\n",
    "    if clf_name == 'RandomForestClassifier':\n",
    "        parameters = {'n_estimators': [5, 10, 50, 100, 150, 200], \n",
    "              'max_features': ['log2', 'sqrt','auto'], \n",
    "              'criterion': ['entropy', 'gini'],\n",
    "#               'max_depth': list(range(2,10)), \n",
    "#               'min_samples_split': list(range(2,5)),\n",
    "#               'min_samples_leaf': list(range(1,5)),\n",
    "              'verbose': [0]\n",
    "             }\n",
    "    if clf_name == 'DecisionTreeClassifier':\n",
    "        parameters = {\n",
    "              'max_depth': list(range(2,10)), \n",
    "              'min_samples_split': list(range(2,10))\n",
    "             }\n",
    "    if clf_name == 'AdaBoostClassifier':\n",
    "        parameters = {\n",
    "            \"n_estimators\" : [5, 10, 50, 100, 150, 200],\n",
    "            \"algorithm\" :  [\"SAMME\", \"SAMME.R\"],\n",
    "            'learning_rate':[0.01, 0.025, 0.05, 0.075, 0.1, 0.15, 0.2, 0.3, 0.5, 0.7]\n",
    "             }\n",
    "    if clf_name == 'GradientBoostingClassifier':\n",
    "        parameters = {\n",
    "            \"loss\":[\"deviance\"],\n",
    "            \"learning_rate\": [0.075, 0.1, 0.15, 0.2, 0.3, 0.5, 0.7],\n",
    "#             \"min_samples_split\": list(range(2,5)),\n",
    "#             \"min_samples_leaf\": list(range(1,5)),\n",
    "            \"max_depth\": [3,5,8],\n",
    "            \"max_features\": [\"log2\",\"sqrt\"],\n",
    "            \"criterion\": [\"friedman_mse\",  \"mae\"],\n",
    "            \"subsample\": [0.5, 0.8, 0.9, 1.0],\n",
    "            \"n_estimators\": [5, 10, 50, 100, 150, 200]\n",
    "             }\n",
    "    if clf_name == 'XGBClassifier':\n",
    "        parameters = {\n",
    "            'learning_rate': np.linspace(0.01, 0.5, 9),\n",
    "#             'max_depth': list(range(5,10)),\n",
    "#             'min_child_weight': list(range(3,10)),\n",
    "            'gamma': np.linspace(0, 0.5, 11),\n",
    "#             'subsample': [0.8, 0.9],\n",
    "#             'colsample_bytree': [0.3, 0.4, 0.5 , 0.7, 0.8, 0.9],\n",
    "            'objective': ['binary:logistic']\n",
    "        }\n",
    "    return(parameters)"
   ]
  },
  {
   "cell_type": "code",
   "execution_count": 4,
   "metadata": {
    "_cell_guid": "79c7e3d0-c299-4dcb-8224-4455121ee9b0",
    "_uuid": "d629ff2d2480ee46fbb7e2d37f6b5fab8052498a"
   },
   "outputs": [
    {
     "ename": "FileNotFoundError",
     "evalue": "[Errno 2] File b'../input/heart.csv' does not exist: b'../input/heart.csv'",
     "output_type": "error",
     "traceback": [
      "\u001b[1;31m---------------------------------------------------------------------------\u001b[0m",
      "\u001b[1;31mFileNotFoundError\u001b[0m                         Traceback (most recent call last)",
      "\u001b[1;32m<ipython-input-4-3235058ca358>\u001b[0m in \u001b[0;36m<module>\u001b[1;34m\u001b[0m\n\u001b[1;32m----> 1\u001b[1;33m \u001b[0mdt\u001b[0m \u001b[1;33m=\u001b[0m \u001b[0mpd\u001b[0m\u001b[1;33m.\u001b[0m\u001b[0mread_csv\u001b[0m\u001b[1;33m(\u001b[0m\u001b[1;34m\"../input/heart.csv\"\u001b[0m\u001b[1;33m)\u001b[0m\u001b[1;33m\u001b[0m\u001b[1;33m\u001b[0m\u001b[0m\n\u001b[0m\u001b[0;32m      2\u001b[0m \u001b[0mX_train\u001b[0m\u001b[1;33m,\u001b[0m \u001b[0mX_test\u001b[0m\u001b[1;33m,\u001b[0m \u001b[0my_train\u001b[0m\u001b[1;33m,\u001b[0m \u001b[0my_test\u001b[0m \u001b[1;33m=\u001b[0m \u001b[0mtrain_to_test_split\u001b[0m\u001b[1;33m(\u001b[0m\u001b[0mdt\u001b[0m\u001b[1;33m[\u001b[0m\u001b[0mdt\u001b[0m\u001b[1;33m.\u001b[0m\u001b[0mcolumns\u001b[0m\u001b[1;33m[\u001b[0m\u001b[1;36m0\u001b[0m\u001b[1;33m:\u001b[0m\u001b[1;36m13\u001b[0m\u001b[1;33m]\u001b[0m\u001b[1;33m]\u001b[0m \u001b[1;33m,\u001b[0m\u001b[0mdt\u001b[0m\u001b[1;33m[\u001b[0m\u001b[1;33m[\u001b[0m\u001b[1;34m'target'\u001b[0m\u001b[1;33m]\u001b[0m\u001b[1;33m]\u001b[0m\u001b[1;33m)\u001b[0m\u001b[1;33m\u001b[0m\u001b[1;33m\u001b[0m\u001b[0m\n",
      "\u001b[1;32mD:\\Anaconda3\\megatest\\lib\\site-packages\\pandas\\io\\parsers.py\u001b[0m in \u001b[0;36mparser_f\u001b[1;34m(filepath_or_buffer, sep, delimiter, header, names, index_col, usecols, squeeze, prefix, mangle_dupe_cols, dtype, engine, converters, true_values, false_values, skipinitialspace, skiprows, skipfooter, nrows, na_values, keep_default_na, na_filter, verbose, skip_blank_lines, parse_dates, infer_datetime_format, keep_date_col, date_parser, dayfirst, cache_dates, iterator, chunksize, compression, thousands, decimal, lineterminator, quotechar, quoting, doublequote, escapechar, comment, encoding, dialect, error_bad_lines, warn_bad_lines, delim_whitespace, low_memory, memory_map, float_precision)\u001b[0m\n\u001b[0;32m    683\u001b[0m         )\n\u001b[0;32m    684\u001b[0m \u001b[1;33m\u001b[0m\u001b[0m\n\u001b[1;32m--> 685\u001b[1;33m         \u001b[1;32mreturn\u001b[0m \u001b[0m_read\u001b[0m\u001b[1;33m(\u001b[0m\u001b[0mfilepath_or_buffer\u001b[0m\u001b[1;33m,\u001b[0m \u001b[0mkwds\u001b[0m\u001b[1;33m)\u001b[0m\u001b[1;33m\u001b[0m\u001b[1;33m\u001b[0m\u001b[0m\n\u001b[0m\u001b[0;32m    686\u001b[0m \u001b[1;33m\u001b[0m\u001b[0m\n\u001b[0;32m    687\u001b[0m     \u001b[0mparser_f\u001b[0m\u001b[1;33m.\u001b[0m\u001b[0m__name__\u001b[0m \u001b[1;33m=\u001b[0m \u001b[0mname\u001b[0m\u001b[1;33m\u001b[0m\u001b[1;33m\u001b[0m\u001b[0m\n",
      "\u001b[1;32mD:\\Anaconda3\\megatest\\lib\\site-packages\\pandas\\io\\parsers.py\u001b[0m in \u001b[0;36m_read\u001b[1;34m(filepath_or_buffer, kwds)\u001b[0m\n\u001b[0;32m    455\u001b[0m \u001b[1;33m\u001b[0m\u001b[0m\n\u001b[0;32m    456\u001b[0m     \u001b[1;31m# Create the parser.\u001b[0m\u001b[1;33m\u001b[0m\u001b[1;33m\u001b[0m\u001b[1;33m\u001b[0m\u001b[0m\n\u001b[1;32m--> 457\u001b[1;33m     \u001b[0mparser\u001b[0m \u001b[1;33m=\u001b[0m \u001b[0mTextFileReader\u001b[0m\u001b[1;33m(\u001b[0m\u001b[0mfp_or_buf\u001b[0m\u001b[1;33m,\u001b[0m \u001b[1;33m**\u001b[0m\u001b[0mkwds\u001b[0m\u001b[1;33m)\u001b[0m\u001b[1;33m\u001b[0m\u001b[1;33m\u001b[0m\u001b[0m\n\u001b[0m\u001b[0;32m    458\u001b[0m \u001b[1;33m\u001b[0m\u001b[0m\n\u001b[0;32m    459\u001b[0m     \u001b[1;32mif\u001b[0m \u001b[0mchunksize\u001b[0m \u001b[1;32mor\u001b[0m \u001b[0miterator\u001b[0m\u001b[1;33m:\u001b[0m\u001b[1;33m\u001b[0m\u001b[1;33m\u001b[0m\u001b[0m\n",
      "\u001b[1;32mD:\\Anaconda3\\megatest\\lib\\site-packages\\pandas\\io\\parsers.py\u001b[0m in \u001b[0;36m__init__\u001b[1;34m(self, f, engine, **kwds)\u001b[0m\n\u001b[0;32m    893\u001b[0m             \u001b[0mself\u001b[0m\u001b[1;33m.\u001b[0m\u001b[0moptions\u001b[0m\u001b[1;33m[\u001b[0m\u001b[1;34m\"has_index_names\"\u001b[0m\u001b[1;33m]\u001b[0m \u001b[1;33m=\u001b[0m \u001b[0mkwds\u001b[0m\u001b[1;33m[\u001b[0m\u001b[1;34m\"has_index_names\"\u001b[0m\u001b[1;33m]\u001b[0m\u001b[1;33m\u001b[0m\u001b[1;33m\u001b[0m\u001b[0m\n\u001b[0;32m    894\u001b[0m \u001b[1;33m\u001b[0m\u001b[0m\n\u001b[1;32m--> 895\u001b[1;33m         \u001b[0mself\u001b[0m\u001b[1;33m.\u001b[0m\u001b[0m_make_engine\u001b[0m\u001b[1;33m(\u001b[0m\u001b[0mself\u001b[0m\u001b[1;33m.\u001b[0m\u001b[0mengine\u001b[0m\u001b[1;33m)\u001b[0m\u001b[1;33m\u001b[0m\u001b[1;33m\u001b[0m\u001b[0m\n\u001b[0m\u001b[0;32m    896\u001b[0m \u001b[1;33m\u001b[0m\u001b[0m\n\u001b[0;32m    897\u001b[0m     \u001b[1;32mdef\u001b[0m \u001b[0mclose\u001b[0m\u001b[1;33m(\u001b[0m\u001b[0mself\u001b[0m\u001b[1;33m)\u001b[0m\u001b[1;33m:\u001b[0m\u001b[1;33m\u001b[0m\u001b[1;33m\u001b[0m\u001b[0m\n",
      "\u001b[1;32mD:\\Anaconda3\\megatest\\lib\\site-packages\\pandas\\io\\parsers.py\u001b[0m in \u001b[0;36m_make_engine\u001b[1;34m(self, engine)\u001b[0m\n\u001b[0;32m   1133\u001b[0m     \u001b[1;32mdef\u001b[0m \u001b[0m_make_engine\u001b[0m\u001b[1;33m(\u001b[0m\u001b[0mself\u001b[0m\u001b[1;33m,\u001b[0m \u001b[0mengine\u001b[0m\u001b[1;33m=\u001b[0m\u001b[1;34m\"c\"\u001b[0m\u001b[1;33m)\u001b[0m\u001b[1;33m:\u001b[0m\u001b[1;33m\u001b[0m\u001b[1;33m\u001b[0m\u001b[0m\n\u001b[0;32m   1134\u001b[0m         \u001b[1;32mif\u001b[0m \u001b[0mengine\u001b[0m \u001b[1;33m==\u001b[0m \u001b[1;34m\"c\"\u001b[0m\u001b[1;33m:\u001b[0m\u001b[1;33m\u001b[0m\u001b[1;33m\u001b[0m\u001b[0m\n\u001b[1;32m-> 1135\u001b[1;33m             \u001b[0mself\u001b[0m\u001b[1;33m.\u001b[0m\u001b[0m_engine\u001b[0m \u001b[1;33m=\u001b[0m \u001b[0mCParserWrapper\u001b[0m\u001b[1;33m(\u001b[0m\u001b[0mself\u001b[0m\u001b[1;33m.\u001b[0m\u001b[0mf\u001b[0m\u001b[1;33m,\u001b[0m \u001b[1;33m**\u001b[0m\u001b[0mself\u001b[0m\u001b[1;33m.\u001b[0m\u001b[0moptions\u001b[0m\u001b[1;33m)\u001b[0m\u001b[1;33m\u001b[0m\u001b[1;33m\u001b[0m\u001b[0m\n\u001b[0m\u001b[0;32m   1136\u001b[0m         \u001b[1;32melse\u001b[0m\u001b[1;33m:\u001b[0m\u001b[1;33m\u001b[0m\u001b[1;33m\u001b[0m\u001b[0m\n\u001b[0;32m   1137\u001b[0m             \u001b[1;32mif\u001b[0m \u001b[0mengine\u001b[0m \u001b[1;33m==\u001b[0m \u001b[1;34m\"python\"\u001b[0m\u001b[1;33m:\u001b[0m\u001b[1;33m\u001b[0m\u001b[1;33m\u001b[0m\u001b[0m\n",
      "\u001b[1;32mD:\\Anaconda3\\megatest\\lib\\site-packages\\pandas\\io\\parsers.py\u001b[0m in \u001b[0;36m__init__\u001b[1;34m(self, src, **kwds)\u001b[0m\n\u001b[0;32m   1915\u001b[0m         \u001b[0mkwds\u001b[0m\u001b[1;33m[\u001b[0m\u001b[1;34m\"usecols\"\u001b[0m\u001b[1;33m]\u001b[0m \u001b[1;33m=\u001b[0m \u001b[0mself\u001b[0m\u001b[1;33m.\u001b[0m\u001b[0musecols\u001b[0m\u001b[1;33m\u001b[0m\u001b[1;33m\u001b[0m\u001b[0m\n\u001b[0;32m   1916\u001b[0m \u001b[1;33m\u001b[0m\u001b[0m\n\u001b[1;32m-> 1917\u001b[1;33m         \u001b[0mself\u001b[0m\u001b[1;33m.\u001b[0m\u001b[0m_reader\u001b[0m \u001b[1;33m=\u001b[0m \u001b[0mparsers\u001b[0m\u001b[1;33m.\u001b[0m\u001b[0mTextReader\u001b[0m\u001b[1;33m(\u001b[0m\u001b[0msrc\u001b[0m\u001b[1;33m,\u001b[0m \u001b[1;33m**\u001b[0m\u001b[0mkwds\u001b[0m\u001b[1;33m)\u001b[0m\u001b[1;33m\u001b[0m\u001b[1;33m\u001b[0m\u001b[0m\n\u001b[0m\u001b[0;32m   1918\u001b[0m         \u001b[0mself\u001b[0m\u001b[1;33m.\u001b[0m\u001b[0munnamed_cols\u001b[0m \u001b[1;33m=\u001b[0m \u001b[0mself\u001b[0m\u001b[1;33m.\u001b[0m\u001b[0m_reader\u001b[0m\u001b[1;33m.\u001b[0m\u001b[0munnamed_cols\u001b[0m\u001b[1;33m\u001b[0m\u001b[1;33m\u001b[0m\u001b[0m\n\u001b[0;32m   1919\u001b[0m \u001b[1;33m\u001b[0m\u001b[0m\n",
      "\u001b[1;32mpandas\\_libs\\parsers.pyx\u001b[0m in \u001b[0;36mpandas._libs.parsers.TextReader.__cinit__\u001b[1;34m()\u001b[0m\n",
      "\u001b[1;32mpandas\\_libs\\parsers.pyx\u001b[0m in \u001b[0;36mpandas._libs.parsers.TextReader._setup_parser_source\u001b[1;34m()\u001b[0m\n",
      "\u001b[1;31mFileNotFoundError\u001b[0m: [Errno 2] File b'../input/heart.csv' does not exist: b'../input/heart.csv'"
     ]
    }
   ],
   "source": [
    "dt = pd.read_csv(\"../input/heart.csv\")\n",
    "X_train, X_test, y_train, y_test = train_to_test_split(dt[dt.columns[0:13]] ,dt[['target']])"
   ]
  },
  {
   "cell_type": "code",
   "execution_count": 4,
   "metadata": {},
   "outputs": [],
   "source": [
    "model = Sequential()\n",
    "model.add(Dense(units=512, activation='relu', input_dim=np.shape(X_train)[1]))\n",
    "model.add(Dense(units=512, activation='relu'))\n",
    "model.add(Dropout(0.3, noise_shape=None, seed=None))\n",
    "model.add(Dense(units=128, activation='relu'))\n",
    "model.add(Dense(units=128, activation='relu'))\n",
    "model.add(Dropout(0.3, noise_shape=None, seed=None))\n",
    "model.add(Dense(units=32, activation='relu'))\n",
    "model.add(Dropout(0.3, noise_shape=None, seed=None))\n",
    "model.add(Dense(units=16, activation='relu'))\n",
    "model.add(Dropout(0.3, noise_shape=None, seed=None))\n",
    "model.add(Dense(units=1, activation='sigmoid'))"
   ]
  },
  {
   "cell_type": "code",
   "execution_count": 5,
   "metadata": {},
   "outputs": [
    {
     "name": "stdout",
     "output_type": "stream",
     "text": [
      "_________________________________________________________________\n",
      "Layer (type)                 Output Shape              Param #   \n",
      "=================================================================\n",
      "dense_1 (Dense)              (None, 512)               7168      \n",
      "_________________________________________________________________\n",
      "dense_2 (Dense)              (None, 512)               262656    \n",
      "_________________________________________________________________\n",
      "dropout_1 (Dropout)          (None, 512)               0         \n",
      "_________________________________________________________________\n",
      "dense_3 (Dense)              (None, 128)               65664     \n",
      "_________________________________________________________________\n",
      "dense_4 (Dense)              (None, 128)               16512     \n",
      "_________________________________________________________________\n",
      "dropout_2 (Dropout)          (None, 128)               0         \n",
      "_________________________________________________________________\n",
      "dense_5 (Dense)              (None, 32)                4128      \n",
      "_________________________________________________________________\n",
      "dropout_3 (Dropout)          (None, 32)                0         \n",
      "_________________________________________________________________\n",
      "dense_6 (Dense)              (None, 16)                528       \n",
      "_________________________________________________________________\n",
      "dropout_4 (Dropout)          (None, 16)                0         \n",
      "_________________________________________________________________\n",
      "dense_7 (Dense)              (None, 1)                 17        \n",
      "=================================================================\n",
      "Total params: 356,673\n",
      "Trainable params: 356,673\n",
      "Non-trainable params: 0\n",
      "_________________________________________________________________\n"
     ]
    }
   ],
   "source": [
    "model.summary()"
   ]
  },
  {
   "cell_type": "code",
   "execution_count": 6,
   "metadata": {},
   "outputs": [],
   "source": [
    "opt = optimizers.SGD()\n",
    "model.compile(loss=\"binary_crossentropy\", optimizer=opt, metrics = [\"accuracy\"])"
   ]
  },
  {
   "cell_type": "code",
   "execution_count": 7,
   "metadata": {},
   "outputs": [
    {
     "name": "stdout",
     "output_type": "stream",
     "text": [
      "Train on 190 samples, validate on 22 samples\n",
      "Epoch 1/100\n",
      "190/190 [==============================] - 1s 4ms/step - loss: 0.6925 - acc: 0.5105 - val_loss: 0.6915 - val_acc: 0.5455\n",
      "Epoch 2/100\n",
      "190/190 [==============================] - 0s 268us/step - loss: 0.6954 - acc: 0.4789 - val_loss: 0.6904 - val_acc: 0.7273\n",
      "Epoch 3/100\n",
      "190/190 [==============================] - 0s 246us/step - loss: 0.6953 - acc: 0.4842 - val_loss: 0.6887 - val_acc: 0.6818\n",
      "Epoch 4/100\n",
      "190/190 [==============================] - 0s 242us/step - loss: 0.6920 - acc: 0.6000 - val_loss: 0.6879 - val_acc: 0.6364\n",
      "Epoch 5/100\n",
      "190/190 [==============================] - 0s 241us/step - loss: 0.6927 - acc: 0.5737 - val_loss: 0.6871 - val_acc: 0.6364\n",
      "Epoch 6/100\n",
      "190/190 [==============================] - 0s 251us/step - loss: 0.6938 - acc: 0.5316 - val_loss: 0.6864 - val_acc: 0.6364\n",
      "Epoch 7/100\n",
      "190/190 [==============================] - 0s 247us/step - loss: 0.6910 - acc: 0.5632 - val_loss: 0.6854 - val_acc: 0.6364\n",
      "Epoch 8/100\n",
      "190/190 [==============================] - 0s 234us/step - loss: 0.6897 - acc: 0.5579 - val_loss: 0.6846 - val_acc: 0.6364\n",
      "Epoch 9/100\n",
      "190/190 [==============================] - 0s 243us/step - loss: 0.6918 - acc: 0.5000 - val_loss: 0.6838 - val_acc: 0.6364\n",
      "Epoch 10/100\n",
      "190/190 [==============================] - 0s 245us/step - loss: 0.6915 - acc: 0.5632 - val_loss: 0.6832 - val_acc: 0.6364\n",
      "Epoch 11/100\n",
      "190/190 [==============================] - 0s 240us/step - loss: 0.6893 - acc: 0.5526 - val_loss: 0.6821 - val_acc: 0.6364\n",
      "Epoch 12/100\n",
      "190/190 [==============================] - 0s 241us/step - loss: 0.6907 - acc: 0.5316 - val_loss: 0.6809 - val_acc: 0.6364\n",
      "Epoch 13/100\n",
      "190/190 [==============================] - 0s 239us/step - loss: 0.6888 - acc: 0.5474 - val_loss: 0.6804 - val_acc: 0.6364\n",
      "Epoch 14/100\n",
      "190/190 [==============================] - 0s 237us/step - loss: 0.6896 - acc: 0.5579 - val_loss: 0.6798 - val_acc: 0.6364\n",
      "Epoch 15/100\n",
      "190/190 [==============================] - 0s 242us/step - loss: 0.6872 - acc: 0.5737 - val_loss: 0.6789 - val_acc: 0.6364\n",
      "Epoch 16/100\n",
      "190/190 [==============================] - 0s 253us/step - loss: 0.6881 - acc: 0.5684 - val_loss: 0.6782 - val_acc: 0.6364\n",
      "Epoch 17/100\n",
      "190/190 [==============================] - 0s 243us/step - loss: 0.6870 - acc: 0.5526 - val_loss: 0.6774 - val_acc: 0.6364\n",
      "Epoch 18/100\n",
      "190/190 [==============================] - 0s 238us/step - loss: 0.6875 - acc: 0.5579 - val_loss: 0.6768 - val_acc: 0.6364\n",
      "Epoch 19/100\n",
      "190/190 [==============================] - 0s 238us/step - loss: 0.6868 - acc: 0.5684 - val_loss: 0.6759 - val_acc: 0.6364\n",
      "Epoch 20/100\n",
      "190/190 [==============================] - 0s 253us/step - loss: 0.6862 - acc: 0.5684 - val_loss: 0.6752 - val_acc: 0.6364\n",
      "Epoch 21/100\n",
      "190/190 [==============================] - 0s 251us/step - loss: 0.6849 - acc: 0.5526 - val_loss: 0.6744 - val_acc: 0.6364\n",
      "Epoch 22/100\n",
      "190/190 [==============================] - 0s 249us/step - loss: 0.6857 - acc: 0.5474 - val_loss: 0.6739 - val_acc: 0.6364\n",
      "Epoch 23/100\n",
      "190/190 [==============================] - 0s 244us/step - loss: 0.6898 - acc: 0.5421 - val_loss: 0.6735 - val_acc: 0.6364\n",
      "Epoch 24/100\n",
      "190/190 [==============================] - 0s 246us/step - loss: 0.6866 - acc: 0.5684 - val_loss: 0.6727 - val_acc: 0.6364\n",
      "Epoch 25/100\n",
      "190/190 [==============================] - 0s 244us/step - loss: 0.6854 - acc: 0.5684 - val_loss: 0.6715 - val_acc: 0.6364\n",
      "Epoch 26/100\n",
      "190/190 [==============================] - 0s 238us/step - loss: 0.6839 - acc: 0.5579 - val_loss: 0.6700 - val_acc: 0.6364\n",
      "Epoch 27/100\n",
      "190/190 [==============================] - 0s 258us/step - loss: 0.6839 - acc: 0.5789 - val_loss: 0.6688 - val_acc: 0.6364\n",
      "Epoch 28/100\n",
      "190/190 [==============================] - 0s 243us/step - loss: 0.6822 - acc: 0.5737 - val_loss: 0.6670 - val_acc: 0.6364\n",
      "Epoch 29/100\n",
      "190/190 [==============================] - 0s 233us/step - loss: 0.6849 - acc: 0.5737 - val_loss: 0.6663 - val_acc: 0.6364\n",
      "Epoch 30/100\n",
      "190/190 [==============================] - 0s 248us/step - loss: 0.6832 - acc: 0.5579 - val_loss: 0.6643 - val_acc: 0.6364\n",
      "Epoch 31/100\n",
      "190/190 [==============================] - 0s 243us/step - loss: 0.6847 - acc: 0.5895 - val_loss: 0.6641 - val_acc: 0.6364\n",
      "Epoch 32/100\n",
      "190/190 [==============================] - 0s 246us/step - loss: 0.6811 - acc: 0.5789 - val_loss: 0.6633 - val_acc: 0.6364\n",
      "Epoch 33/100\n",
      "190/190 [==============================] - 0s 239us/step - loss: 0.6843 - acc: 0.5737 - val_loss: 0.6628 - val_acc: 0.6364\n",
      "Epoch 34/100\n",
      "190/190 [==============================] - 0s 237us/step - loss: 0.6817 - acc: 0.5684 - val_loss: 0.6620 - val_acc: 0.6364\n",
      "Epoch 35/100\n",
      "190/190 [==============================] - 0s 239us/step - loss: 0.6779 - acc: 0.5947 - val_loss: 0.6598 - val_acc: 0.6364\n",
      "Epoch 36/100\n",
      "190/190 [==============================] - 0s 242us/step - loss: 0.6801 - acc: 0.5737 - val_loss: 0.6580 - val_acc: 0.6364\n",
      "Epoch 37/100\n",
      "190/190 [==============================] - 0s 242us/step - loss: 0.6753 - acc: 0.6000 - val_loss: 0.6570 - val_acc: 0.6364\n",
      "Epoch 38/100\n",
      "190/190 [==============================] - 0s 250us/step - loss: 0.6775 - acc: 0.5895 - val_loss: 0.6554 - val_acc: 0.6818\n",
      "Epoch 39/100\n",
      "190/190 [==============================] - 0s 239us/step - loss: 0.6749 - acc: 0.6000 - val_loss: 0.6543 - val_acc: 0.6818\n",
      "Epoch 40/100\n",
      "190/190 [==============================] - 0s 232us/step - loss: 0.6771 - acc: 0.5842 - val_loss: 0.6530 - val_acc: 0.6818\n",
      "Epoch 41/100\n",
      "190/190 [==============================] - 0s 246us/step - loss: 0.6720 - acc: 0.6105 - val_loss: 0.6507 - val_acc: 0.6818\n",
      "Epoch 42/100\n",
      "190/190 [==============================] - 0s 237us/step - loss: 0.6731 - acc: 0.6000 - val_loss: 0.6494 - val_acc: 0.6818\n",
      "Epoch 43/100\n",
      "190/190 [==============================] - 0s 244us/step - loss: 0.6663 - acc: 0.6316 - val_loss: 0.6456 - val_acc: 0.6818\n",
      "Epoch 44/100\n",
      "190/190 [==============================] - 0s 248us/step - loss: 0.6654 - acc: 0.6263 - val_loss: 0.6440 - val_acc: 0.7273\n",
      "Epoch 45/100\n",
      "190/190 [==============================] - 0s 243us/step - loss: 0.6688 - acc: 0.6211 - val_loss: 0.6426 - val_acc: 0.7273\n",
      "Epoch 46/100\n",
      "190/190 [==============================] - 0s 236us/step - loss: 0.6707 - acc: 0.6316 - val_loss: 0.6429 - val_acc: 0.6818\n",
      "Epoch 47/100\n",
      "190/190 [==============================] - 0s 243us/step - loss: 0.6712 - acc: 0.6368 - val_loss: 0.6396 - val_acc: 0.6818\n",
      "Epoch 48/100\n",
      "190/190 [==============================] - 0s 256us/step - loss: 0.6640 - acc: 0.6421 - val_loss: 0.6375 - val_acc: 0.7273\n",
      "Epoch 49/100\n",
      "190/190 [==============================] - 0s 242us/step - loss: 0.6643 - acc: 0.6474 - val_loss: 0.6353 - val_acc: 0.7273\n",
      "Epoch 50/100\n",
      "190/190 [==============================] - 0s 243us/step - loss: 0.6621 - acc: 0.6632 - val_loss: 0.6310 - val_acc: 0.6818\n",
      "Epoch 51/100\n",
      "190/190 [==============================] - 0s 239us/step - loss: 0.6580 - acc: 0.6105 - val_loss: 0.6292 - val_acc: 0.7273\n",
      "Epoch 52/100\n",
      "190/190 [==============================] - 0s 234us/step - loss: 0.6545 - acc: 0.6579 - val_loss: 0.6262 - val_acc: 0.7273\n",
      "Epoch 53/100\n",
      "190/190 [==============================] - 0s 234us/step - loss: 0.6548 - acc: 0.6316 - val_loss: 0.6247 - val_acc: 0.7273\n",
      "Epoch 54/100\n",
      "190/190 [==============================] - 0s 245us/step - loss: 0.6574 - acc: 0.6053 - val_loss: 0.6224 - val_acc: 0.7273\n",
      "Epoch 55/100\n",
      "190/190 [==============================] - 0s 245us/step - loss: 0.6387 - acc: 0.7474 - val_loss: 0.6197 - val_acc: 0.7273\n",
      "Epoch 56/100\n",
      "190/190 [==============================] - 0s 250us/step - loss: 0.6469 - acc: 0.6947 - val_loss: 0.6166 - val_acc: 0.7727\n",
      "Epoch 57/100\n",
      "190/190 [==============================] - 0s 239us/step - loss: 0.6481 - acc: 0.6684 - val_loss: 0.6141 - val_acc: 0.7727\n",
      "Epoch 58/100\n",
      "190/190 [==============================] - 0s 252us/step - loss: 0.6418 - acc: 0.6316 - val_loss: 0.6096 - val_acc: 0.7727\n",
      "Epoch 59/100\n",
      "190/190 [==============================] - 0s 248us/step - loss: 0.6413 - acc: 0.6947 - val_loss: 0.6077 - val_acc: 0.7273\n",
      "Epoch 60/100\n",
      "190/190 [==============================] - 0s 247us/step - loss: 0.6394 - acc: 0.6842 - val_loss: 0.6059 - val_acc: 0.7273\n",
      "Epoch 61/100\n",
      "190/190 [==============================] - 0s 250us/step - loss: 0.6221 - acc: 0.7368 - val_loss: 0.6042 - val_acc: 0.7727\n",
      "Epoch 62/100\n",
      "190/190 [==============================] - 0s 249us/step - loss: 0.6263 - acc: 0.7105 - val_loss: 0.6000 - val_acc: 0.7727\n",
      "Epoch 63/100\n",
      "190/190 [==============================] - 0s 236us/step - loss: 0.6213 - acc: 0.6947 - val_loss: 0.5911 - val_acc: 0.7273\n",
      "Epoch 64/100\n",
      "190/190 [==============================] - 0s 244us/step - loss: 0.6259 - acc: 0.7211 - val_loss: 0.5879 - val_acc: 0.7273\n",
      "Epoch 65/100\n",
      "190/190 [==============================] - 0s 245us/step - loss: 0.6298 - acc: 0.6789 - val_loss: 0.5848 - val_acc: 0.7727\n",
      "Epoch 66/100\n",
      "190/190 [==============================] - 0s 252us/step - loss: 0.6227 - acc: 0.6789 - val_loss: 0.5805 - val_acc: 0.7727\n",
      "Epoch 67/100\n",
      "190/190 [==============================] - 0s 239us/step - loss: 0.6234 - acc: 0.6789 - val_loss: 0.5775 - val_acc: 0.7727\n",
      "Epoch 68/100\n",
      "190/190 [==============================] - 0s 237us/step - loss: 0.5939 - acc: 0.7632 - val_loss: 0.5727 - val_acc: 0.7727\n",
      "Epoch 69/100\n",
      "190/190 [==============================] - 0s 260us/step - loss: 0.6161 - acc: 0.7158 - val_loss: 0.5662 - val_acc: 0.7727\n",
      "Epoch 70/100\n",
      "190/190 [==============================] - 0s 237us/step - loss: 0.6015 - acc: 0.7053 - val_loss: 0.5613 - val_acc: 0.7727\n",
      "Epoch 71/100\n",
      "190/190 [==============================] - 0s 238us/step - loss: 0.5929 - acc: 0.7263 - val_loss: 0.5561 - val_acc: 0.7727\n",
      "Epoch 72/100\n",
      "190/190 [==============================] - 0s 245us/step - loss: 0.6037 - acc: 0.7474 - val_loss: 0.5523 - val_acc: 0.8182\n",
      "Epoch 73/100\n",
      "190/190 [==============================] - 0s 246us/step - loss: 0.5978 - acc: 0.7000 - val_loss: 0.5460 - val_acc: 0.7727\n",
      "Epoch 74/100\n",
      "190/190 [==============================] - 0s 240us/step - loss: 0.6004 - acc: 0.7000 - val_loss: 0.5425 - val_acc: 0.8182\n",
      "Epoch 75/100\n",
      "190/190 [==============================] - 0s 255us/step - loss: 0.5844 - acc: 0.7526 - val_loss: 0.5367 - val_acc: 0.8182\n",
      "Epoch 76/100\n",
      "190/190 [==============================] - 0s 240us/step - loss: 0.5761 - acc: 0.7263 - val_loss: 0.5308 - val_acc: 0.8182\n",
      "Epoch 77/100\n",
      "190/190 [==============================] - 0s 244us/step - loss: 0.5689 - acc: 0.7421 - val_loss: 0.5256 - val_acc: 0.8182\n",
      "Epoch 78/100\n",
      "190/190 [==============================] - 0s 233us/step - loss: 0.5755 - acc: 0.7158 - val_loss: 0.5218 - val_acc: 0.8182\n",
      "Epoch 79/100\n",
      "190/190 [==============================] - 0s 242us/step - loss: 0.5541 - acc: 0.7526 - val_loss: 0.5216 - val_acc: 0.8636\n",
      "Epoch 80/100\n",
      "190/190 [==============================] - 0s 247us/step - loss: 0.5700 - acc: 0.7789 - val_loss: 0.5106 - val_acc: 0.8182\n",
      "Epoch 81/100\n",
      "190/190 [==============================] - 0s 245us/step - loss: 0.5616 - acc: 0.7579 - val_loss: 0.5079 - val_acc: 0.8182\n",
      "Epoch 82/100\n",
      "190/190 [==============================] - 0s 245us/step - loss: 0.5587 - acc: 0.7579 - val_loss: 0.5035 - val_acc: 0.8182\n",
      "Epoch 83/100\n",
      "190/190 [==============================] - 0s 248us/step - loss: 0.5511 - acc: 0.7684 - val_loss: 0.5012 - val_acc: 0.8636\n",
      "Epoch 84/100\n",
      "190/190 [==============================] - 0s 240us/step - loss: 0.5283 - acc: 0.7737 - val_loss: 0.4938 - val_acc: 0.8182\n",
      "Epoch 85/100\n",
      "190/190 [==============================] - 0s 249us/step - loss: 0.5597 - acc: 0.7632 - val_loss: 0.4897 - val_acc: 0.8182\n",
      "Epoch 86/100\n",
      "190/190 [==============================] - 0s 258us/step - loss: 0.5423 - acc: 0.7316 - val_loss: 0.4899 - val_acc: 0.8182\n",
      "Epoch 87/100\n",
      "190/190 [==============================] - 0s 245us/step - loss: 0.5374 - acc: 0.7842 - val_loss: 0.4868 - val_acc: 0.8636\n",
      "Epoch 88/100\n",
      "190/190 [==============================] - 0s 245us/step - loss: 0.5323 - acc: 0.7632 - val_loss: 0.4844 - val_acc: 0.8636\n",
      "Epoch 89/100\n",
      "190/190 [==============================] - 0s 242us/step - loss: 0.5479 - acc: 0.7684 - val_loss: 0.4793 - val_acc: 0.8636\n",
      "Epoch 90/100\n",
      "190/190 [==============================] - 0s 251us/step - loss: 0.5290 - acc: 0.7895 - val_loss: 0.4753 - val_acc: 0.8182\n",
      "Epoch 91/100\n",
      "190/190 [==============================] - 0s 246us/step - loss: 0.5384 - acc: 0.7263 - val_loss: 0.4728 - val_acc: 0.8182\n",
      "Epoch 92/100\n",
      "190/190 [==============================] - 0s 248us/step - loss: 0.5241 - acc: 0.7895 - val_loss: 0.4679 - val_acc: 0.8182\n",
      "Epoch 93/100\n",
      "190/190 [==============================] - 0s 242us/step - loss: 0.5321 - acc: 0.7842 - val_loss: 0.4676 - val_acc: 0.8182\n",
      "Epoch 94/100\n",
      "190/190 [==============================] - 0s 250us/step - loss: 0.4996 - acc: 0.7947 - val_loss: 0.4700 - val_acc: 0.8636\n",
      "Epoch 95/100\n",
      "190/190 [==============================] - 0s 246us/step - loss: 0.5107 - acc: 0.7684 - val_loss: 0.4579 - val_acc: 0.8182\n",
      "Epoch 96/100\n",
      "190/190 [==============================] - 0s 242us/step - loss: 0.5324 - acc: 0.7737 - val_loss: 0.4516 - val_acc: 0.8182\n",
      "Epoch 97/100\n",
      "190/190 [==============================] - 0s 254us/step - loss: 0.5283 - acc: 0.7368 - val_loss: 0.4511 - val_acc: 0.8182\n",
      "Epoch 98/100\n",
      "190/190 [==============================] - 0s 243us/step - loss: 0.5063 - acc: 0.7842 - val_loss: 0.4477 - val_acc: 0.8182\n",
      "Epoch 99/100\n",
      "190/190 [==============================] - 0s 245us/step - loss: 0.5104 - acc: 0.7632 - val_loss: 0.4457 - val_acc: 0.8182\n",
      "Epoch 100/100\n",
      "190/190 [==============================] - 0s 249us/step - loss: 0.5095 - acc: 0.7684 - val_loss: 0.4464 - val_acc: 0.8182\n"
     ]
    }
   ],
   "source": [
    "result = model.fit(X_train, y_train ,epochs=100, batch_size=16, validation_split=0.1, shuffle=True)"
   ]
  },
  {
   "cell_type": "code",
   "execution_count": 8,
   "metadata": {},
   "outputs": [
    {
     "name": "stdout",
     "output_type": "stream",
     "text": [
      "0.8901098901098901\n",
      "3.7954962938615107\n"
     ]
    }
   ],
   "source": [
    "MLP_acc = accuracy_score(y_test, model.predict_classes(X_test))\n",
    "MLP_loss = log_loss(y_test, model.predict_classes(X_test))\n",
    "print(MLP_acc)\n",
    "print(MLP_loss)"
   ]
  },
  {
   "cell_type": "code",
   "execution_count": 9,
   "metadata": {},
   "outputs": [
    {
     "data": {
      "image/png": "[encoded data removed]",
      "text/plain": [
       "<Figure size 864x360 with 2 Axes>"
      ]
     },
     "metadata": {
      "needs_background": "light"
     },
     "output_type": "display_data"
    }
   ],
   "source": [
    "plot_history(result)"
   ]
  },
  {
   "cell_type": "code",
   "execution_count": 10,
   "metadata": {},
   "outputs": [],
   "source": [
    "classifiers = [\n",
    "    DecisionTreeClassifier(),\n",
    "    RandomForestClassifier(),\n",
    "    AdaBoostClassifier(),\n",
    "    GradientBoostingClassifier(),\n",
    "    xgb.XGBClassifier()\n",
    "]"
   ]
  },
  {
   "cell_type": "code",
   "execution_count": 11,
   "metadata": {},
   "outputs": [
    {
     "name": "stdout",
     "output_type": "stream",
     "text": [
      "==============================\n",
      "DecisionTreeClassifier\n",
      "Accuracy: 81.32%\n",
      "==============================\n",
      "RandomForestClassifier\n",
      "Accuracy: 83.52%\n",
      "==============================\n",
      "AdaBoostClassifier\n",
      "Accuracy: 84.62%\n",
      "==============================\n",
      "GradientBoostingClassifier\n",
      "Accuracy: 84.62%\n",
      "==============================\n",
      "XGBClassifier\n",
      "Accuracy: 86.81%\n",
      "==============================\n"
     ]
    },
    {
     "name": "stderr",
     "output_type": "stream",
     "text": [
      "/opt/conda/lib/python3.6/site-packages/sklearn/ensemble/forest.py:245: FutureWarning: The default value of n_estimators will change from 10 in version 0.20 to 100 in 0.22.\n",
      "  \"10 in version 0.20 to 100 in 0.22.\", FutureWarning)\n"
     ]
    }
   ],
   "source": [
    "# Logging for Visual Comparison# Logging for Visual Comparison\n",
    "log_cols=[\"Classifier\", \"Accuracy\"]\n",
    "log = pd.DataFrame([['MLP', MLP_acc*100]],columns=log_cols)\n",
    "\n",
    "for clf in classifiers:\n",
    "    \n",
    "    name = clf.__class__.__name__\n",
    "    clf.fit(X_train, y_train.values.ravel())\n",
    "    print(\"=\"*30)\n",
    "    print(name)\n",
    "    \n",
    "    train_predictions = clf.predict(X_test)\n",
    "    acc = accuracy_score(y_test, train_predictions)\n",
    "    print(\"Accuracy: {:.2%}\".format(acc))\n",
    "    \n",
    "    log_entry = pd.DataFrame([[name, acc*100]], columns=log_cols)\n",
    "    log = log.append(log_entry)\n",
    "    \n",
    "print(\"=\"*30)"
   ]
  },
  {
   "cell_type": "code",
   "execution_count": 12,
   "metadata": {},
   "outputs": [
    {
     "name": "stdout",
     "output_type": "stream",
     "text": [
      "==============================\n",
      "DecisionTreeClassifierGrid\n",
      "{'max_depth': [2, 3, 4, 5, 6, 7, 8, 9], 'min_samples_split': [2, 3, 4, 5, 6, 7, 8, 9]}\n",
      "Accuracy: 86.81%\n",
      "==============================\n",
      "RandomForestClassifierGrid\n",
      "{'n_estimators': [5, 10, 50, 100, 150, 200], 'max_features': ['log2', 'sqrt', 'auto'], 'criterion': ['entropy', 'gini'], 'verbose': [0]}\n",
      "Accuracy: 90.11%\n",
      "==============================\n",
      "AdaBoostClassifierGrid\n",
      "{'n_estimators': [5, 10, 50, 100, 150, 200], 'algorithm': ['SAMME', 'SAMME.R'], 'learning_rate': [0.01, 0.025, 0.05, 0.075, 0.1, 0.15, 0.2, 0.3, 0.5, 0.7]}\n",
      "Accuracy: 91.21%\n",
      "==============================\n",
      "GradientBoostingClassifierGrid\n",
      "{'loss': ['deviance'], 'learning_rate': [0.075, 0.1, 0.15, 0.2, 0.3, 0.5, 0.7], 'max_depth': [3, 5, 8], 'max_features': ['log2', 'sqrt'], 'criterion': ['friedman_mse', 'mae'], 'subsample': [0.5, 0.8, 0.9, 1.0], 'n_estimators': [5, 10, 50, 100, 150, 200]}\n",
      "Accuracy: 91.21%\n",
      "==============================\n",
      "XGBClassifierGrid\n",
      "{'learning_rate': array([0.01   , 0.07125, 0.1325 , 0.19375, 0.255  , 0.31625, 0.3775 ,\n",
      "       0.43875, 0.5    ]), 'gamma': array([0.  , 0.05, 0.1 , 0.15, 0.2 , 0.25, 0.3 , 0.35, 0.4 , 0.45, 0.5 ]), 'objective': ['binary:logistic']}\n",
      "Accuracy: 85.71%\n",
      "==============================\n"
     ]
    }
   ],
   "source": [
    "# Grid Search\n",
    "for clf in classifiers:\n",
    "    name = clf.__class__.__name__ + 'Grid'\n",
    "    print(\"=\"*30)\n",
    "    print(name)\n",
    "    train_predictions = classifier(clf)\n",
    "    acc = accuracy_score(y_test, train_predictions)\n",
    "    print(\"Accuracy: {:.2%}\".format(acc))\n",
    "    log_entry = pd.DataFrame([[name, acc*100]], columns=log_cols)\n",
    "    log = log.append(log_entry)\n",
    "print(\"=\"*30)\n"
   ]
  },
  {
   "cell_type": "code",
   "execution_count": 13,
   "metadata": {},
   "outputs": [
    {
     "data": {
      "image/png": "[encoded data removed]",
      "text/plain": [
       "<Figure size 432x288 with 1 Axes>"
      ]
     },
     "metadata": {
      "needs_background": "light"
     },
     "output_type": "display_data"
    }
   ],
   "source": [
    "sns.set_color_codes(\"muted\")\n",
    "g=sns.barplot(x='Accuracy', y='Classifier', data=log, color=\"b\")\n",
    "\n",
    "plt.xlabel('Accuracy %')\n",
    "plt.title('Classifier Accuracy')  \n",
    "\n",
    "for p in g.patches:\n",
    "    x = p.get_x() + p.get_width() +.3\n",
    "    y = p.get_y() + p.get_height()/2 + .1\n",
    "    g.annotate(\"%.2f %%\" % (p.get_width()), (x, y))\n",
    "\n",
    "plt.show()\n",
    "\n"
   ]
  },
  {
   "cell_type": "code",
   "execution_count": 14,
   "metadata": {},
   "outputs": [
    {
     "data": {
      "text/plain": [
       "RandomForestClassifier(bootstrap=True, class_weight=None, criterion='gini',\n",
       "                       max_depth=None, max_features='auto', max_leaf_nodes=None,\n",
       "                       min_impurity_decrease=0.0, min_impurity_split=None,\n",
       "                       min_samples_leaf=1, min_samples_split=2,\n",
       "                       min_weight_fraction_leaf=0.0, n_estimators=10,\n",
       "                       n_jobs=None, oob_score=False, random_state=None,\n",
       "                       verbose=0, warm_start=False)"
      ]
     },
     "execution_count": 14,
     "metadata": {},
     "output_type": "execute_result"
    }
   ],
   "source": [
    "clf = classifiers[1] \n",
    "clf.fit(X_train, y_train.values.ravel())\n",
    "# model_name = '../model/'+clf.__class__.__name__+'_00001.pkl'\n",
    "# joblib.dump(clf, model_name) \n"
   ]
  },
  {
   "cell_type": "code",
   "execution_count": 15,
   "metadata": {},
   "outputs": [
    {
     "name": "stdout",
     "output_type": "stream",
     "text": [
      "Loading RandomForestClassifier\n",
      "Result is: 1.0\n"
     ]
    }
   ],
   "source": [
    "print('Loading ' + clf.__class__.__name__)\n",
    "# clf = joblib.load(model_name) \n",
    "# scaler = joblib.load(scaler_filename) \n",
    "\n",
    "input_dt = [37,1,3,130,250,1,0,187,0,2.3,0,0,1]\n",
    "input_dt = np.array(input_dt).reshape(1, -1)\n",
    "# input_dt = scaler.transform(input_dt)\n",
    "train_predictions = clf.predict(input_dt)\n",
    "\n",
    "\n",
    "print('Result is: ' + str(float(train_predictions)))"
   ]
  },
  {
   "cell_type": "markdown",
   "metadata": {},
   "source": [
    "# 2019/06/11 Note\n",
    "- SGD is better then adam in some seed.\n",
    "\n",
    "# 2019/07/10 Note\n",
    "- Cross Validation With Parameter Tuning Using Grid Search.\n",
    "- Calculate the accuracy score of MLP using test dataset."
   ]
  }
 ],
 "metadata": {
  "kernelspec": {
   "display_name": "Python 3",
   "language": "python",
   "name": "python3"
  },
  "language_info": {
   "codemirror_mode": {
    "name": "ipython",
    "version": 3
   },
   "file_extension": ".py",
   "mimetype": "text/x-python",
   "name": "python",
   "nbconvert_exporter": "python",
   "pygments_lexer": "ipython3",
   "version": "3.7.3"
  }
 },
 "nbformat": 4,
 "nbformat_minor": 1
}
