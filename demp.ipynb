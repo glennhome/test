{
 "cells": [
  {
   "cell_type": "code",
   "execution_count": 1,
   "metadata": {},
   "outputs": [],
   "source": [
    "import pandas as pd\n",
    "import numpy as np\n",
    "import os \n",
    "import xgboost as xgb\n",
    "from sklearn.model_selection import GridSearchCV\n",
    "from sklearn.ensemble import RandomForestClassifier\n",
    "from sklearn.metrics import accuracy_score,make_scorer\n",
    "import seaborn as sns\n",
    "import matplotlib.pyplot as plt\n",
    "#decisiontree\n",
    "from sklearn.tree import DecisionTreeClassifier\n",
    "from sklearn.metrics import confusion_matrix"
   ]
  },
  {
   "cell_type": "code",
   "execution_count": 2,
   "metadata": {},
   "outputs": [],
   "source": [
    "def grid_search(clf, parameters, X_train, y_train):\n",
    "    acc_scorer = make_scorer(accuracy_score)\n",
    "    grid_obj = GridSearchCV(clf, parameters, scoring=acc_scorer, n_jobs=-1, cv=5)\n",
    "    grid_obj = grid_obj.fit(X_train, y_train.values.ravel())\n",
    "    clf = grid_obj.best_estimator_\n",
    "    return(clf)\n",
    "    \n",
    "    \n",
    "def classifier(clf):\n",
    "    \n",
    "    clf_name = clf.__class__.__name__\n",
    "    parameters = parameter_set(clf_name)\n",
    "    print(parameters)\n",
    "    # return predictions from gird search best model\n",
    "    clf = grid_search(clf, parameters, train_set, y_train)\n",
    "    \n",
    "    # fit best model\n",
    "    clf.fit(train_set, y_train.values.ravel())\n",
    "    \n",
    "    predictions = clf.predict(test_set) \n",
    "    if clf_name == 'XGBClassifier':\n",
    "        predictions = [value for value in predictions]\n",
    "    return(predictions)\n",
    "\n",
    "def parameter_set(clf_name):\n",
    "    if clf_name == 'RandomForestClassifier':\n",
    "        parameters = {'n_estimators': [5, 10, 50, 100, 150, 200], \n",
    "              'max_features': ['log2', 'sqrt','auto'], \n",
    "              'criterion': ['entropy', 'gini'],\n",
    "#               'max_depth': list(range(2,10)), \n",
    "#               'min_samples_split': list(range(2,5)),\n",
    "#               'min_samples_leaf': list(range(1,5)),\n",
    "              'verbose': [0]\n",
    "             }\n",
    "    if clf_name == 'DecisionTreeClassifier':\n",
    "        parameters = {\n",
    "              'max_depth': list(range(2,10)), \n",
    "              'min_samples_split': list(range(2,10))\n",
    "             }\n",
    "    if clf_name == 'AdaBoostClassifier':\n",
    "        parameters = {\n",
    "            \"n_estimators\" : [5, 10, 50, 100, 150, 200],\n",
    "            \"algorithm\" :  [\"SAMME\", \"SAMME.R\"],\n",
    "            'learning_rate':[0.01, 0.025, 0.05, 0.075, 0.1, 0.15, 0.2, 0.3, 0.5, 0.7]\n",
    "             }\n",
    "    if clf_name == 'GradientBoostingClassifier':\n",
    "        parameters = {\n",
    "            \"loss\":[\"deviance\"],\n",
    "            \"learning_rate\": [0.075, 0.1, 0.15, 0.2, 0.3, 0.5, 0.7],\n",
    "#             \"min_samples_split\": list(range(2,5)),\n",
    "#             \"min_samples_leaf\": list(range(1,5)),\n",
    "            \"max_depth\": [3,5,8],\n",
    "            \"max_features\": [\"log2\",\"sqrt\"],\n",
    "            \"criterion\": [\"friedman_mse\",  \"mae\"],\n",
    "            \"subsample\": [0.5, 0.8, 0.9, 1.0],\n",
    "            \"n_estimators\": [5, 10, 50, 100, 150, 200]\n",
    "             }\n",
    "    if clf_name == 'XGBClassifier':\n",
    "        parameters = {\n",
    "            'learning_rate': np.linspace(0.01, 0.5, 9),\n",
    "#             'max_depth': list(range(5,10)),\n",
    "#             'min_child_weight': list(range(3,10)),\n",
    "            'gamma': np.linspace(0, 0.5, 11),\n",
    "#             'subsample': [0.8, 0.9],\n",
    "#             'colsample_bytree': [0.3, 0.4, 0.5 , 0.7, 0.8, 0.9],\n",
    "            'objective': ['binary:logistic']\n",
    "        }\n",
    "    return(parameters)"
   ]
  },
  {
   "cell_type": "code",
   "execution_count": 3,
   "metadata": {},
   "outputs": [],
   "source": [
    "#設定路徑\n",
    "dir_data = './data/' "
   ]
  },
  {
   "cell_type": "code",
   "execution_count": 4,
   "metadata": {},
   "outputs": [
    {
     "data": {
      "text/html": [
       "<div>\n",
       "<style scoped>\n",
       "    .dataframe tbody tr th:only-of-type {\n",
       "        vertical-align: middle;\n",
       "    }\n",
       "\n",
       "    .dataframe tbody tr th {\n",
       "        vertical-align: top;\n",
       "    }\n",
       "\n",
       "    .dataframe thead th {\n",
       "        text-align: right;\n",
       "    }\n",
       "</style>\n",
       "<table border=\"1\" class=\"dataframe\">\n",
       "  <thead>\n",
       "    <tr style=\"text-align: right;\">\n",
       "      <th></th>\n",
       "      <th>age</th>\n",
       "      <th>workclass</th>\n",
       "      <th>fnlwgt</th>\n",
       "      <th>education</th>\n",
       "      <th>education-num</th>\n",
       "      <th>marital-status</th>\n",
       "      <th>occupation</th>\n",
       "      <th>relationshiprace</th>\n",
       "      <th>race</th>\n",
       "      <th>sex</th>\n",
       "      <th>capital-gain</th>\n",
       "      <th>capital-loss</th>\n",
       "      <th>hours-per-week</th>\n",
       "      <th>native-country</th>\n",
       "      <th>wage_class</th>\n",
       "    </tr>\n",
       "  </thead>\n",
       "  <tbody>\n",
       "    <tr>\n",
       "      <th>0</th>\n",
       "      <td>25</td>\n",
       "      <td>Private</td>\n",
       "      <td>226802</td>\n",
       "      <td>11th</td>\n",
       "      <td>7</td>\n",
       "      <td>Never-married</td>\n",
       "      <td>Machine-op-inspct</td>\n",
       "      <td>Own-child</td>\n",
       "      <td>Black</td>\n",
       "      <td>Male</td>\n",
       "      <td>0</td>\n",
       "      <td>0</td>\n",
       "      <td>40</td>\n",
       "      <td>United-States</td>\n",
       "      <td>&lt;=50K.</td>\n",
       "    </tr>\n",
       "    <tr>\n",
       "      <th>1</th>\n",
       "      <td>38</td>\n",
       "      <td>Private</td>\n",
       "      <td>89814</td>\n",
       "      <td>HS-grad</td>\n",
       "      <td>9</td>\n",
       "      <td>Married-civ-spouse</td>\n",
       "      <td>Farming-fishing</td>\n",
       "      <td>Husband</td>\n",
       "      <td>White</td>\n",
       "      <td>Male</td>\n",
       "      <td>0</td>\n",
       "      <td>0</td>\n",
       "      <td>50</td>\n",
       "      <td>United-States</td>\n",
       "      <td>&lt;=50K.</td>\n",
       "    </tr>\n",
       "    <tr>\n",
       "      <th>2</th>\n",
       "      <td>28</td>\n",
       "      <td>Local-gov</td>\n",
       "      <td>336951</td>\n",
       "      <td>Assoc-acdm</td>\n",
       "      <td>12</td>\n",
       "      <td>Married-civ-spouse</td>\n",
       "      <td>Protective-serv</td>\n",
       "      <td>Husband</td>\n",
       "      <td>White</td>\n",
       "      <td>Male</td>\n",
       "      <td>0</td>\n",
       "      <td>0</td>\n",
       "      <td>40</td>\n",
       "      <td>United-States</td>\n",
       "      <td>&gt;50K.</td>\n",
       "    </tr>\n",
       "    <tr>\n",
       "      <th>3</th>\n",
       "      <td>44</td>\n",
       "      <td>Private</td>\n",
       "      <td>160323</td>\n",
       "      <td>Some-college</td>\n",
       "      <td>10</td>\n",
       "      <td>Married-civ-spouse</td>\n",
       "      <td>Machine-op-inspct</td>\n",
       "      <td>Husband</td>\n",
       "      <td>Black</td>\n",
       "      <td>Male</td>\n",
       "      <td>7688</td>\n",
       "      <td>0</td>\n",
       "      <td>40</td>\n",
       "      <td>United-States</td>\n",
       "      <td>&gt;50K.</td>\n",
       "    </tr>\n",
       "    <tr>\n",
       "      <th>4</th>\n",
       "      <td>18</td>\n",
       "      <td>?</td>\n",
       "      <td>103497</td>\n",
       "      <td>Some-college</td>\n",
       "      <td>10</td>\n",
       "      <td>Never-married</td>\n",
       "      <td>?</td>\n",
       "      <td>Own-child</td>\n",
       "      <td>White</td>\n",
       "      <td>Female</td>\n",
       "      <td>0</td>\n",
       "      <td>0</td>\n",
       "      <td>30</td>\n",
       "      <td>United-States</td>\n",
       "      <td>&lt;=50K.</td>\n",
       "    </tr>\n",
       "  </tbody>\n",
       "</table>\n",
       "</div>"
      ],
      "text/plain": [
       "   age   workclass  fnlwgt      education  education-num       marital-status  \\\n",
       "0   25     Private  226802           11th              7        Never-married   \n",
       "1   38     Private   89814        HS-grad              9   Married-civ-spouse   \n",
       "2   28   Local-gov  336951     Assoc-acdm             12   Married-civ-spouse   \n",
       "3   44     Private  160323   Some-college             10   Married-civ-spouse   \n",
       "4   18           ?  103497   Some-college             10        Never-married   \n",
       "\n",
       "           occupation relationshiprace    race      sex  capital-gain  \\\n",
       "0   Machine-op-inspct        Own-child   Black     Male             0   \n",
       "1     Farming-fishing          Husband   White     Male             0   \n",
       "2     Protective-serv          Husband   White     Male             0   \n",
       "3   Machine-op-inspct          Husband   Black     Male          7688   \n",
       "4                   ?        Own-child   White   Female             0   \n",
       "\n",
       "   capital-loss  hours-per-week  native-country wage_class  \n",
       "0             0              40   United-States     <=50K.  \n",
       "1             0              50   United-States     <=50K.  \n",
       "2             0              40   United-States      >50K.  \n",
       "3             0              40   United-States      >50K.  \n",
       "4             0              30   United-States     <=50K.  "
      ]
     },
     "execution_count": 4,
     "metadata": {},
     "output_type": "execute_result"
    }
   ],
   "source": [
    "train_data = os.path.join(dir_data,'adult.data.csv')\n",
    "test_data = os.path.join(dir_data,'adult.test.csv')\n",
    "train_set = pd.read_csv(train_data)\n",
    "test_set = pd.read_csv(test_data)\n",
    "train_set.head()\n",
    "test_set.head()"
   ]
  },
  {
   "cell_type": "code",
   "execution_count": 5,
   "metadata": {},
   "outputs": [
    {
     "name": "stdout",
     "output_type": "stream",
     "text": [
      "<class 'pandas.core.frame.DataFrame'>\n",
      "RangeIndex: 32561 entries, 0 to 32560\n",
      "Data columns (total 15 columns):\n",
      "age                 32561 non-null int64\n",
      "workclass           32561 non-null object\n",
      "fnlwgt              32561 non-null int64\n",
      "education           32561 non-null object\n",
      "education-num       32561 non-null int64\n",
      "marital-status      32561 non-null object\n",
      "occupation          32561 non-null object\n",
      "relationshiprace    32561 non-null object\n",
      "race                32561 non-null object\n",
      "sex                 32561 non-null object\n",
      "capital-gain        32561 non-null int64\n",
      "capital-loss        32561 non-null int64\n",
      "hours-per-week      32561 non-null int64\n",
      "native-country      32561 non-null object\n",
      "wage_class          32561 non-null object\n",
      "dtypes: int64(6), object(9)\n",
      "memory usage: 3.7+ MB\n",
      "<class 'pandas.core.frame.DataFrame'>\n",
      "RangeIndex: 16281 entries, 0 to 16280\n",
      "Data columns (total 15 columns):\n",
      "age                 16281 non-null int64\n",
      "workclass           16281 non-null object\n",
      "fnlwgt              16281 non-null int64\n",
      "education           16281 non-null object\n",
      "education-num       16281 non-null int64\n",
      "marital-status      16281 non-null object\n",
      "occupation          16281 non-null object\n",
      "relationshiprace    16281 non-null object\n",
      "race                16281 non-null object\n",
      "sex                 16281 non-null object\n",
      "capital-gain        16281 non-null int64\n",
      "capital-loss        16281 non-null int64\n",
      "hours-per-week      16281 non-null int64\n",
      "native-country      16281 non-null object\n",
      "wage_class          16281 non-null object\n",
      "dtypes: int64(6), object(9)\n",
      "memory usage: 1.9+ MB\n"
     ]
    }
   ],
   "source": [
    "#設置column\n",
    "col_label = ['age','workclass','fnlwgt','education','education-num','marital-status','occupation','relationshiprace','race','sex','capital-gain','capital-loss','hours-per-week','native-country','wage_class']\n",
    "train_set.columns = col_label\n",
    "test_set.columns = col_label\n",
    "train_set.info()\n",
    "test_set.info()"
   ]
  },
  {
   "cell_type": "code",
   "execution_count": 6,
   "metadata": {},
   "outputs": [
    {
     "name": "stdout",
     "output_type": "stream",
     "text": [
      "(32561, 15)\n",
      "(16281, 15)\n",
      "[' <=50K' ' >50K']\n",
      "[' <=50K' ' >50K']\n",
      "[' <=50K' ' >50K']\n",
      "[' <=50K' ' >50K']\n",
      "(30162, 15)\n",
      "(15060, 15)\n",
      "[' <=50K' ' >50K']\n",
      "[' <=50K' ' >50K']\n",
      "[' <=50K' ' >50K']\n",
      "[' <=50K' ' >50K']\n"
     ]
    }
   ],
   "source": [
    "#缺失值處理:先替換掉?在dropna\n",
    "print( train_set.shape) \n",
    "print( test_set.shape)#替換測試集中的wage_class值使得其與train_set一致,多一個.replace適用dict的方式換\n",
    "train_set=train_set.replace(' ?', np.nan).dropna()\n",
    "test_set=test_set.replace(' ?', np.nan).dropna()\n",
    "print( train_set.shape) \n",
    "print( test_set.shape)#替換測試集中的wage_class值使得其與train_set一致,多一個.replace適用dict的方式換\n",
    "test_set['wage_class'] = test_set.wage_class.replace({' <=50K.': ' <=50K', ' >50K.': ' >50K'})\n",
    "print (test_set.wage_class.unique())\n",
    "# [' <=50K' ' >50K']\n",
    "print (train_set.wage_class.unique())\n",
    "# [' <=50K' ' >50K']\n",
    "\n",
    "print (test_set.wage_class.unique())\n",
    "# [' <=50K' ' >50K']\n",
    "print (train_set.wage_class.unique())\n",
    "# [' <=50K' ' >50K'"
   ]
  },
  {
   "cell_type": "code",
   "execution_count": 7,
   "metadata": {},
   "outputs": [
    {
     "name": "stdout",
     "output_type": "stream",
     "text": [
      "[' Bachelors' ' HS-grad' ' 11th' ' Masters' ' 9th' ' Some-college'\n",
      " ' Assoc-acdm' ' 7th-8th' ' Doctorate' ' Assoc-voc' ' Prof-school'\n",
      " ' 5th-6th' ' 10th' ' Preschool' ' 12th' ' 1st-4th']\n",
      "education    10th   11th   12th   1st-4th   5th-6th   7th-8th   9th  \\\n",
      "wage_class                                                            \n",
      " <=50K        761    989    348       145       276       522   430   \n",
      " >50K          59     59     29         6        12        35    25   \n",
      "\n",
      "education    Assoc-acdm   Assoc-voc   Bachelors   Doctorate   HS-grad  \\\n",
      "wage_class                                                              \n",
      " <=50K              752         963        2918          95      8223   \n",
      " >50K               256         344        2126         280      1617   \n",
      "\n",
      "education    Masters   Preschool   Prof-school   Some-college  \n",
      "wage_class                                                     \n",
      " <=50K           709          45           136           5342  \n",
      " >50K            918           0           406           1336  \n"
     ]
    }
   ],
   "source": [
    "#查看列屬性和類別的關係\n",
    "#我們可以查看下，教育程度和類別(年收入>=50Kde 關係，一般來說學歷越高，年收入高的概率越大)\n",
    "print( train_set.education.unique())\n",
    "print(pd.crosstab(train_set['wage_class'], train_set['education'], rownames=['wage_class']))"
   ]
  },
  {
   "cell_type": "code",
   "execution_count": 8,
   "metadata": {},
   "outputs": [],
   "source": [
    "#字符串類型轉化爲數值類型,爲了保證測試集和訓練集的encoding類型一致，我們首先將兩個表join，編碼完成之後，在分開到原始的表中:\n",
    "\n",
    "combined_set = pd.concat([train_set, test_set], axis=0)\n",
    "#合併完成將表中的object數據轉化爲int類型：\n",
    "\n",
    "for feature in combined_set.columns:\n",
    "    if combined_set[feature].dtype == 'object':\n",
    "        combined_set[feature] = pd.Categorical(combined_set[feature]).codes"
   ]
  },
  {
   "cell_type": "code",
   "execution_count": 9,
   "metadata": {},
   "outputs": [
    {
     "name": "stdout",
     "output_type": "stream",
     "text": [
      "[ 9 11  1 12  6 15  7  5 10  8 14  4  0 13  2  3]\n",
      "[0 1]\n"
     ]
    }
   ],
   "source": [
    "#將數據轉到原有的訓練集以及測試集中:\n",
    "\n",
    "train_set = combined_set[:train_set.shape[0]]\n",
    "test_set = combined_set[train_set.shape[0]:]\n",
    "#我們可以看下，education以及wage_class的編碼:\n",
    "\n",
    "print (train_set.education.unique())\n",
    "print (train_set.wage_class.unique())"
   ]
  },
  {
   "cell_type": "code",
   "execution_count": 10,
   "metadata": {},
   "outputs": [],
   "source": [
    "y_train=train_set.pop('wage_class')\n",
    "y_test=test_set.pop('wage_class')"
   ]
  },
  {
   "cell_type": "code",
   "execution_count": 17,
   "metadata": {},
   "outputs": [
    {
     "name": "stdout",
     "output_type": "stream",
     "text": [
      "(30162, 14)\n",
      "(30162,)\n",
      "(15060, 14)\n",
      "(15060,)\n"
     ]
    }
   ],
   "source": [
    "print(train_set.shape)\n",
    "print(y_train.shape)\n",
    "print(test_set.shape)\n",
    "print(y_test.shape)"
   ]
  },
  {
   "cell_type": "code",
   "execution_count": 11,
   "metadata": {},
   "outputs": [
    {
     "name": "stdout",
     "output_type": "stream",
     "text": [
      "[0 0 0 ... 1 0 1]\n",
      "[[10429   931]\n",
      " [ 1352  2348]]\n",
      "準確率 0.8484063745019921\n"
     ]
    }
   ],
   "source": [
    "rf = DecisionTreeClassifier(max_depth=10)\n",
    "rf.fit(train_set, y_train)\n",
    "Y_pred = rf.predict(test_set)\n",
    "print(Y_pred)\n",
    "print (confusion_matrix(y_test, Y_pred))\n",
    "print(\"準確率\",rf.score(test_set,y_test))"
   ]
  },
  {
   "cell_type": "code",
   "execution_count": 18,
   "metadata": {},
   "outputs": [],
   "source": [
    "#RandomForestClassifier模型分類以及驗證\n",
    "def rfc_fit_test(X_train, X_test, Y_train, Y_test):\n",
    "    from sklearn.ensemble import RandomForestClassifier\n",
    "    from sklearn.metrics import classification_report\n",
    "    rf = RandomForestClassifier(n_jobs=2)\n",
    "    rf.fit(X_train, Y_train)\n",
    "    Y_pred = rf.predict(X_test)\n",
    "    print (classification_report(Y_test, Y_pred))\n"
   ]
  },
  {
   "cell_type": "code",
   "execution_count": 19,
   "metadata": {},
   "outputs": [
    {
     "name": "stderr",
     "output_type": "stream",
     "text": [
      "C:\\Users\\user\\Anaconda3\\lib\\site-packages\\sklearn\\ensemble\\forest.py:246: FutureWarning: The default value of n_estimators will change from 10 in version 0.20 to 100 in 0.22.\n",
      "  \"10 in version 0.20 to 100 in 0.22.\", FutureWarning)\n"
     ]
    },
    {
     "name": "stdout",
     "output_type": "stream",
     "text": [
      "              precision    recall  f1-score   support\n",
      "\n",
      "           0       0.87      0.93      0.90     11360\n",
      "           1       0.74      0.59      0.65      3700\n",
      "\n",
      "   micro avg       0.85      0.85      0.85     15060\n",
      "   macro avg       0.81      0.76      0.78     15060\n",
      "weighted avg       0.84      0.85      0.84     15060\n",
      "\n"
     ]
    }
   ],
   "source": [
    "rfc_fit_test(train_set,test_set,y_train,y_test)"
   ]
  },
  {
   "cell_type": "code",
   "execution_count": 20,
   "metadata": {},
   "outputs": [
    {
     "name": "stdout",
     "output_type": "stream",
     "text": [
      "The accuracy of eXtreme Gradient Boosting Classifier on testing set: 0.8615537848605578\n"
     ]
    }
   ],
   "source": [
    "#XGB\n",
    "from xgboost import XGBClassifier\n",
    "xgbc = XGBClassifier()\n",
    "xgbc.fit(train_set, y_train)\n",
    "print('The accuracy of eXtreme Gradient Boosting Classifier on testing set:', xgbc.score(test_set, y_test))"
   ]
  },
  {
   "cell_type": "code",
   "execution_count": 21,
   "metadata": {},
   "outputs": [],
   "source": [
    "classifiers = [\n",
    "    DecisionTreeClassifier(),\n",
    "    RandomForestClassifier(),\n",
    "    xgb.XGBClassifier()\n",
    "]"
   ]
  },
  {
   "cell_type": "code",
   "execution_count": 22,
   "metadata": {},
   "outputs": [
    {
     "name": "stdout",
     "output_type": "stream",
     "text": [
      "==============================\n",
      "DecisionTreeClassifier\n",
      "Accuracy: 80.28%\n"
     ]
    },
    {
     "name": "stderr",
     "output_type": "stream",
     "text": [
      "C:\\Users\\user\\Anaconda3\\lib\\site-packages\\sklearn\\ensemble\\forest.py:246: FutureWarning: The default value of n_estimators will change from 10 in version 0.20 to 100 in 0.22.\n",
      "  \"10 in version 0.20 to 100 in 0.22.\", FutureWarning)\n"
     ]
    },
    {
     "name": "stdout",
     "output_type": "stream",
     "text": [
      "==============================\n",
      "RandomForestClassifier\n",
      "Accuracy: 84.36%\n",
      "==============================\n",
      "XGBClassifier\n",
      "Accuracy: 86.16%\n",
      "==============================\n"
     ]
    }
   ],
   "source": [
    "# Logging for Visual Comparison# Logging for Visual Comparison\n",
    "log_cols=[\"Classifier\", \"Accuracy\"]\n",
    "log = pd.DataFrame([],columns=log_cols)\n",
    "\n",
    "for clf in classifiers:\n",
    "    \n",
    "    name = clf.__class__.__name__\n",
    "    clf.fit(train_set, y_train.values.ravel())\n",
    "    print(\"=\"*30)\n",
    "    print(name)\n",
    "    \n",
    "    train_predictions = clf.predict(test_set)\n",
    "    acc = accuracy_score(y_test, train_predictions)\n",
    "    print(\"Accuracy: {:.2%}\".format(acc))\n",
    "    \n",
    "    log_entry = pd.DataFrame([[name, acc*100]], columns=log_cols)\n",
    "    log = log.append(log_entry)\n",
    "    \n",
    "print(\"=\"*30)"
   ]
  },
  {
   "cell_type": "code",
   "execution_count": 23,
   "metadata": {},
   "outputs": [
    {
     "name": "stdout",
     "output_type": "stream",
     "text": [
      "==============================\n",
      "DecisionTreeClassifierGrid\n",
      "{'max_depth': [2, 3, 4, 5, 6, 7, 8, 9], 'min_samples_split': [2, 3, 4, 5, 6, 7, 8, 9]}\n",
      "Accuracy: 84.88%\n",
      "==============================\n",
      "RandomForestClassifierGrid\n",
      "{'n_estimators': [5, 10, 50, 100, 150, 200], 'max_features': ['log2', 'sqrt', 'auto'], 'criterion': ['entropy', 'gini'], 'verbose': [0]}\n",
      "Accuracy: 84.99%\n",
      "==============================\n",
      "XGBClassifierGrid\n",
      "{'learning_rate': array([0.01   , 0.07125, 0.1325 , 0.19375, 0.255  , 0.31625, 0.3775 ,\n",
      "       0.43875, 0.5    ]), 'gamma': array([0.  , 0.05, 0.1 , 0.15, 0.2 , 0.25, 0.3 , 0.35, 0.4 , 0.45, 0.5 ]), 'objective': ['binary:logistic']}\n",
      "Accuracy: 87.00%\n",
      "==============================\n"
     ]
    }
   ],
   "source": [
    "# Grid Search\n",
    "for clf in classifiers:\n",
    "    name = clf.__class__.__name__ + 'Grid'\n",
    "    print(\"=\"*30)\n",
    "    print(name)\n",
    "    train_predictions = classifier(clf)\n",
    "    acc = accuracy_score(y_test, train_predictions)\n",
    "    print(\"Accuracy: {:.2%}\".format(acc))\n",
    "    log_entry = pd.DataFrame([[name, acc*100]], columns=log_cols)\n",
    "    log = log.append(log_entry)\n",
    "print(\"=\"*30)"
   ]
  },
  {
   "cell_type": "code",
   "execution_count": 24,
   "metadata": {},
   "outputs": [
    {
     "data": {
      "image/png": "[encoded data removed]",
      "text/plain": [
       "<Figure size 432x288 with 1 Axes>"
      ]
     },
     "metadata": {
      "needs_background": "light"
     },
     "output_type": "display_data"
    }
   ],
   "source": [
    "sns.set_color_codes(\"muted\")\n",
    "g=sns.barplot(x='Accuracy', y='Classifier', data=log, color=\"b\")\n",
    "\n",
    "plt.xlabel('Accuracy %')\n",
    "plt.title('Classifier Accuracy')  \n",
    "\n",
    "for p in g.patches:\n",
    "    x = p.get_x() + p.get_width() +.3\n",
    "    y = p.get_y() + p.get_height()/2 + .1\n",
    "    g.annotate(\"%.2f %%\" % (p.get_width()), (x, y))\n",
    "\n",
    "plt.show()"
   ]
  },
  {
   "cell_type": "code",
   "execution_count": null,
   "metadata": {},
   "outputs": [],
   "source": []
  }
 ],
 "metadata": {
  "kernelspec": {
   "display_name": "Python 3",
   "language": "python",
   "name": "python3"
  },
  "language_info": {
   "codemirror_mode": {
    "name": "ipython",
    "version": 3
   },
   "file_extension": ".py",
   "mimetype": "text/x-python",
   "name": "python",
   "nbconvert_exporter": "python",
   "pygments_lexer": "ipython3",
   "version": "3.7.3"
  }
 },
 "nbformat": 4,
 "nbformat_minor": 2
}
